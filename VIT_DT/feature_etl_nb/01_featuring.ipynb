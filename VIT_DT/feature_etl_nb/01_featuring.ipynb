{
 "cells": [
  {
   "cell_type": "code",
   "execution_count": 110,
   "metadata": {
    "ExecuteTime": {
     "end_time": "2022-11-09T22:20:49.678485Z",
     "start_time": "2022-11-09T22:20:49.672027Z"
    },
    "id": "f23DxOai55fT",
    "pycharm": {
     "name": "#%%\n"
    }
   },
   "outputs": [],
   "source": [
    "# !pip install jupyter_contrib_nbextensions\n",
    "# !jupyter contrib nbextension install --user\n",
    "# !jupyter nbextension enable execute_time/ExecuteTime"
   ]
  },
  {
   "cell_type": "code",
   "execution_count": 111,
   "metadata": {
    "ExecuteTime": {
     "end_time": "2022-11-16T13:16:12.621081Z",
     "start_time": "2022-11-16T13:16:11.269943Z"
    },
    "id": "Hc6DtCKS4wyd",
    "pycharm": {
     "name": "#%%\n"
    }
   },
   "outputs": [],
   "source": [
    "import glob\n",
    "import pandas as pd\n",
    "import numpy as np\n",
    "\n",
    "import os\n",
    "import time\n",
    "\n",
    "import json\n",
    "from tqdm import tqdm\n",
    "import os\n",
    "\n",
    "from pprint import pprint\n",
    "import socket\n",
    "\n",
    "from IPython.display import display"
   ]
  },
  {
   "cell_type": "code",
   "execution_count": 112,
   "metadata": {
    "ExecuteTime": {
     "end_time": "2022-11-16T13:16:12.623981Z",
     "start_time": "2022-11-16T13:16:12.622300Z"
    },
    "id": "qho33dFC6EMA",
    "pycharm": {
     "name": "#%%\n"
    }
   },
   "outputs": [],
   "source": [
    "# remove warnings\n",
    "\n",
    "import warnings\n",
    "\n",
    "warnings.filterwarnings(\"ignore\")\n"
   ]
  },
  {
   "cell_type": "code",
   "execution_count": 113,
   "metadata": {
    "ExecuteTime": {
     "end_time": "2022-11-16T13:16:51.695415Z",
     "start_time": "2022-11-16T13:16:51.678983Z"
    },
    "id": "g-KIflBkzjao",
    "pycharm": {
     "name": "#%%\n"
    }
   },
   "outputs": [],
   "source": [
    "# config\n",
    "\n",
    "preload_version = \"djia_stock_v1\"\n",
    "version = \"djia_stock_v1\"\n",
    "preload_raw = True\n",
    "\n",
    "N_WORKER = 20\n",
    "\n",
    "data_dir = \"../DeepTrader/data/DJIA/djia_stocks\"\n",
    "data_output = \"/home/ted/data\"\n",
    "\n",
    "# loaded pickle\n",
    "data_path = \"{}/raw/{}/{}.pkl\"\n",
    "\n",
    "# feature config\n",
    "n = 120\n",
    "moms = [1, 3, 6, 9] + list(range(30, n + 30, 30))\n",
    "\n",
    "\n",
    "config = dict(\n",
    "    period_int=24,\n",
    "    target_period_int=24,\n",
    "    period=\"24h\",\n",
    "    target_period_list=[24],\n",
    "    mom_list=moms,\n",
    "    tv_nums=[1, 3, 7, 30, 60, 90],\n",
    "    feature_dir=f\"{data_output}/feature/{version}\",\n",
    "    std_period=\"24h\",\n",
    "    std_terms=[7, 30, 60, 90, 180, 360],\n",
    "    cut_off_date=None,\n",
    "    end_cut_off_date=None,\n",
    ")\n",
    "\n",
    "\n",
    "def mkdir_if_not_exists(p):\n",
    "    if not os.path.exists(p):\n",
    "        os.makedirs(p)\n",
    "\n",
    "assert min(config[\"target_period_list\"]) >= config[\"period_int\"]\n"
   ]
  },
  {
   "cell_type": "code",
   "execution_count": 114,
   "metadata": {
    "ExecuteTime": {
     "end_time": "2022-11-16T13:16:15.746432Z",
     "start_time": "2022-11-16T13:16:15.741346Z"
    }
   },
   "outputs": [
    {
     "name": "stdout",
     "output_type": "stream",
     "text": [
      "{'cut_off_date': None,\n",
      " 'end_cut_off_date': None,\n",
      " 'feature_dir': '/home/ted/data/feature/djia_stock_v1',\n",
      " 'mom_list': [1, 3, 6, 9, 30, 60, 90, 120],\n",
      " 'period': '24h',\n",
      " 'period_int': 24,\n",
      " 'std_period': '24h',\n",
      " 'std_terms': [7, 30, 60, 90, 180, 360],\n",
      " 'target_period_int': 24,\n",
      " 'target_period_list': [24],\n",
      " 'tv_nums': [1, 3, 7, 30, 60, 90]}\n"
     ]
    }
   ],
   "source": [
    "pprint(config)"
   ]
  },
  {
   "cell_type": "markdown",
   "metadata": {
    "pycharm": {
     "name": "#%% md\n"
    }
   },
   "source": [
    "## mutiple tasks"
   ]
  },
  {
   "cell_type": "code",
   "execution_count": 115,
   "metadata": {
    "ExecuteTime": {
     "end_time": "2022-11-09T22:25:18.299318Z",
     "start_time": "2022-11-09T22:25:18.295986Z"
    },
    "id": "GTHsc7ixTE1Q",
    "pycharm": {
     "name": "#%%\n"
    }
   },
   "outputs": [],
   "source": [
    "from multiprocessing import Pool\n",
    "from functools import partial\n",
    "import inspect\n",
    "\n",
    "\n",
    "def parallal_task(func, iterable, *params):\n",
    "    with open(f\"./tmp_func.py\", \"w\") as file:\n",
    "        file.write(inspect.getsource(func).replace(func.__name__, \"task\"))\n",
    "    \n",
    "    import importlib as imp\n",
    "    import sys\n",
    "    import tmp_func\n",
    "    \n",
    "    imp.reload(tmp_func)\n",
    "    \n",
    "    if __name__ == \"__main__\":\n",
    "        pool = Pool(processes=N_WORKER)\n",
    "        res = pool.starmap(tmp_func.task, iterable)\n",
    "        pool.close()\n",
    "        return res\n",
    "    else:\n",
    "        raise \"Not in Jupyter Notebook\""
   ]
  },
  {
   "cell_type": "markdown",
   "metadata": {},
   "source": [
    "## get files path"
   ]
  },
  {
   "cell_type": "code",
   "execution_count": 116,
   "metadata": {
    "ExecuteTime": {
     "end_time": "2022-11-16T13:16:56.134345Z",
     "start_time": "2022-11-16T13:16:56.099670Z"
    },
    "id": "b6nOZotC4QNn",
    "pycharm": {
     "name": "#%%\n"
    }
   },
   "outputs": [],
   "source": [
    "path_dict = {}\n",
    "\n",
    "for filepath in glob.iglob(f\"{data_dir}/*.csv\"):\n",
    "    name = filepath.split(\"/\")[-1]\n",
    "    name = name.split(\".\")[0]\n",
    "    if name not in path_dict:\n",
    "        path_dict[name] = [filepath]\n",
    "    else:\n",
    "        path_dict[name].append(filepath)"
   ]
  },
  {
   "cell_type": "code",
   "execution_count": 117,
   "metadata": {
    "ExecuteTime": {
     "end_time": "2022-11-16T13:16:57.209021Z",
     "start_time": "2022-11-16T13:16:57.203615Z"
    },
    "colab": {
     "base_uri": "https://localhost:8080/"
    },
    "executionInfo": {
     "elapsed": 3,
     "status": "ok",
     "timestamp": 1642756877015,
     "user": {
      "displayName": "peng zhao",
      "photoUrl": "https://lh3.googleusercontent.com/a/default-user=s64",
      "userId": "08255921072412381274"
     },
     "user_tz": -480
    },
    "id": "qcM4OzE-N1Fx",
    "outputId": "0e4a3465-856c-4e17-d52c-20a9bb9546a8",
    "pycharm": {
     "name": "#%%\n"
    }
   },
   "outputs": [
    {
     "data": {
      "text/plain": [
       "30"
      ]
     },
     "execution_count": 117,
     "metadata": {},
     "output_type": "execute_result"
    }
   ],
   "source": [
    "len(path_dict)"
   ]
  },
  {
   "cell_type": "markdown",
   "metadata": {},
   "source": [
    "## pre process"
   ]
  },
  {
   "cell_type": "code",
   "execution_count": 118,
   "metadata": {},
   "outputs": [],
   "source": [
    "def preprocess(name, path_dict, data_output, data_path, preload_version, config):\n",
    "    import dask.dataframe as dd\n",
    "    import pandas as pd\n",
    "    import os\n",
    "    \n",
    "    def mkdir_if_not_exists(p):\n",
    "        if not os.path.exists(p):\n",
    "            os.makedirs(p)\n",
    "    \n",
    "    df = dd.read_csv(path_dict[name], assume_missing=True).compute()\n",
    "    df.drop(df.columns[0], inplace=True, axis=1)\n",
    "    df = df.assign(token_name=name)\n",
    "\n",
    "    cut_off_date = config[\"cut_off_date\"]\n",
    "    end_cut_off_date = config[\"end_cut_off_date\"]\n",
    "\n",
    "    if cut_off_date:\n",
    "        cut_off_date = pd.to_datetime(config[\"cut_off_date\"])\n",
    "\n",
    "    if end_cut_off_date:\n",
    "        end_cut_off_date = pd.to_datetime(config[\"end_cut_off_date\"])\n",
    "\n",
    "    # sort\n",
    "    df = df.sort_values(\"date\")\n",
    "\n",
    "    # processing the timestamp\n",
    "    df[\"date\"] = pd.to_datetime(df[\"date\"])\n",
    "\n",
    "    # date range\n",
    "    if cut_off_date and end_cut_off_date:\n",
    "        df = df[\n",
    "            (df[\"date\"] >= cut_off_date)\n",
    "            & (df[\"date\"] <= end_cut_off_date)\n",
    "        ]\n",
    "    elif cut_off_date:\n",
    "        df = df[(df[\"date\"] >= cut_off_date)]\n",
    "    elif end_cut_off_date:\n",
    "        df = df[(df[\"date\"] <= end_cut_off_date)]\n",
    "\n",
    "    # save to tmp\n",
    "    p_ = data_path.format(data_output, preload_version, name)\n",
    "    mkdir_if_not_exists(os.path.dirname(p_))\n",
    "    df.to_pickle(p_)"
   ]
  },
  {
   "cell_type": "code",
   "execution_count": 119,
   "metadata": {},
   "outputs": [],
   "source": [
    "def mutiple_processes_on_preprocess():\n",
    "\n",
    "    t0 = time.time()\n",
    "\n",
    "    stars_list = [\n",
    "        (name, path_dict, data_output, data_path, preload_version, config)\n",
    "        for name, p in path_dict.items()\n",
    "    ]\n",
    "    ress = []\n",
    "\n",
    "    for res in parallal_task(preprocess, stars_list):\n",
    "        ress.append(res)\n",
    "\n",
    "    t1 = time.time()\n",
    "    total = t1 - t0\n",
    "\n",
    "    print(total / 60)\n"
   ]
  },
  {
   "cell_type": "code",
   "execution_count": 120,
   "metadata": {
    "ExecuteTime": {
     "end_time": "2022-11-16T13:16:59.160280Z",
     "start_time": "2022-11-16T13:16:59.146398Z"
    },
    "colab": {
     "base_uri": "https://localhost:8080/"
    },
    "executionInfo": {
     "elapsed": 124107,
     "status": "ok",
     "timestamp": 1642757001130,
     "user": {
      "displayName": "peng zhao",
      "photoUrl": "https://lh3.googleusercontent.com/a/default-user=s64",
      "userId": "08255921072412381274"
     },
     "user_tz": -480
    },
    "id": "2Ri29sgj4QtZ",
    "outputId": "e665367d-d7d9-488b-a9bf-d43c31c8d25a",
    "pycharm": {
     "name": "#%%\n"
    },
    "tags": []
   },
   "outputs": [
    {
     "name": "stdout",
     "output_type": "stream",
     "text": [
      "0.012257671356201172\n"
     ]
    }
   ],
   "source": [
    "path_pickle_dict = {}\n",
    "\n",
    "if preload_raw:\n",
    "    mutiple_processes_on_preprocess()\n",
    "\n",
    "for filepath in glob.iglob(f\"{data_output}/raw/{preload_version}/*.pkl\"):\n",
    "    name = filepath.split(\"/\")[-1]\n",
    "    name = name.split(\".\")[0]\n",
    "    path_pickle_dict[name] = filepath"
   ]
  },
  {
   "cell_type": "code",
   "execution_count": 121,
   "metadata": {
    "ExecuteTime": {
     "end_time": "2022-11-16T13:17:00.748917Z",
     "start_time": "2022-11-16T13:17:00.743209Z"
    },
    "colab": {
     "base_uri": "https://localhost:8080/"
    },
    "executionInfo": {
     "elapsed": 4,
     "status": "ok",
     "timestamp": 1642757001139,
     "user": {
      "displayName": "peng zhao",
      "photoUrl": "https://lh3.googleusercontent.com/a/default-user=s64",
      "userId": "08255921072412381274"
     },
     "user_tz": -480
    },
    "id": "trIWe9gmE8f5",
    "outputId": "df328397-b2a4-49cc-d491-141b7930fdd2",
    "pycharm": {
     "name": "#%%\n"
    },
    "tags": []
   },
   "outputs": [
    {
     "data": {
      "text/plain": [
       "{'INTC': '/home/ted/data/raw/djia_stock_v1/INTC.pkl',\n",
       " 'MSFT': '/home/ted/data/raw/djia_stock_v1/MSFT.pkl',\n",
       " 'V': '/home/ted/data/raw/djia_stock_v1/V.pkl',\n",
       " 'MCD': '/home/ted/data/raw/djia_stock_v1/MCD.pkl',\n",
       " 'IBM': '/home/ted/data/raw/djia_stock_v1/IBM.pkl',\n",
       " 'BA': '/home/ted/data/raw/djia_stock_v1/BA.pkl',\n",
       " 'CAT': '/home/ted/data/raw/djia_stock_v1/CAT.pkl',\n",
       " 'HD': '/home/ted/data/raw/djia_stock_v1/HD.pkl',\n",
       " 'CSCO': '/home/ted/data/raw/djia_stock_v1/CSCO.pkl',\n",
       " 'VZ': '/home/ted/data/raw/djia_stock_v1/VZ.pkl',\n",
       " 'DOW': '/home/ted/data/raw/djia_stock_v1/DOW.pkl',\n",
       " 'AXP': '/home/ted/data/raw/djia_stock_v1/AXP.pkl',\n",
       " 'AAPL': '/home/ted/data/raw/djia_stock_v1/AAPL.pkl',\n",
       " 'NKE': '/home/ted/data/raw/djia_stock_v1/NKE.pkl',\n",
       " 'CVX': '/home/ted/data/raw/djia_stock_v1/CVX.pkl',\n",
       " 'WMT': '/home/ted/data/raw/djia_stock_v1/WMT.pkl',\n",
       " 'TRV': '/home/ted/data/raw/djia_stock_v1/TRV.pkl',\n",
       " 'HON': '/home/ted/data/raw/djia_stock_v1/HON.pkl',\n",
       " 'WBA': '/home/ted/data/raw/djia_stock_v1/WBA.pkl',\n",
       " 'AMGN': '/home/ted/data/raw/djia_stock_v1/AMGN.pkl',\n",
       " 'MRK': '/home/ted/data/raw/djia_stock_v1/MRK.pkl',\n",
       " 'PG': '/home/ted/data/raw/djia_stock_v1/PG.pkl',\n",
       " 'GS': '/home/ted/data/raw/djia_stock_v1/GS.pkl',\n",
       " 'JPM': '/home/ted/data/raw/djia_stock_v1/JPM.pkl',\n",
       " 'DIS': '/home/ted/data/raw/djia_stock_v1/DIS.pkl',\n",
       " 'MMM': '/home/ted/data/raw/djia_stock_v1/MMM.pkl',\n",
       " 'UNH': '/home/ted/data/raw/djia_stock_v1/UNH.pkl',\n",
       " 'KO': '/home/ted/data/raw/djia_stock_v1/KO.pkl',\n",
       " 'JNJ': '/home/ted/data/raw/djia_stock_v1/JNJ.pkl',\n",
       " 'CRM': '/home/ted/data/raw/djia_stock_v1/CRM.pkl'}"
      ]
     },
     "execution_count": 121,
     "metadata": {},
     "output_type": "execute_result"
    }
   ],
   "source": [
    "path_pickle_dict"
   ]
  },
  {
   "cell_type": "markdown",
   "metadata": {
    "pycharm": {
     "name": "#%% md\n"
    }
   },
   "source": [
    "## checking gap of the kline"
   ]
  },
  {
   "cell_type": "code",
   "execution_count": 122,
   "metadata": {},
   "outputs": [],
   "source": [
    "def convert_to_days(x):\n",
    "    return x / np.timedelta64(1, 'D')"
   ]
  },
  {
   "cell_type": "code",
   "execution_count": 123,
   "metadata": {
    "ExecuteTime": {
     "end_time": "2022-11-09T22:25:18.291094Z",
     "start_time": "2022-11-09T22:25:11.403924Z"
    },
    "pycharm": {
     "name": "#%%\n"
    }
   },
   "outputs": [],
   "source": [
    "checker1 = []\n",
    "checker2 = []\n",
    "\n",
    "path_pickle_dict_cp = path_pickle_dict.copy()\n",
    "\n",
    "for k, v in path_pickle_dict_cp.items():\n",
    "\n",
    "    df = pd.read_pickle(v)\n",
    "\n",
    "    if df.empty:\n",
    "        del path_pickle_dict[k]\n",
    "        continue\n",
    "\n",
    "    ele = df[\"date\"].diff().dropna().apply(lambda x: convert_to_days(x)).unique()\n",
    "    ele_max = df[\"date\"].diff().dropna().apply(lambda x: convert_to_days(x)).max()\n",
    "\n",
    "    checker1.append(len(ele))\n",
    "    checker2.append(ele_max)"
   ]
  },
  {
   "cell_type": "code",
   "execution_count": 124,
   "metadata": {},
   "outputs": [
    {
     "data": {
      "text/html": [
       "<div>\n",
       "<style scoped>\n",
       "    .dataframe tbody tr th:only-of-type {\n",
       "        vertical-align: middle;\n",
       "    }\n",
       "\n",
       "    .dataframe tbody tr th {\n",
       "        vertical-align: top;\n",
       "    }\n",
       "\n",
       "    .dataframe thead th {\n",
       "        text-align: right;\n",
       "    }\n",
       "</style>\n",
       "<table border=\"1\" class=\"dataframe\">\n",
       "  <thead>\n",
       "    <tr style=\"text-align: right;\">\n",
       "      <th></th>\n",
       "      <th>date</th>\n",
       "      <th>open</th>\n",
       "      <th>high</th>\n",
       "      <th>low</th>\n",
       "      <th>close</th>\n",
       "      <th>volume</th>\n",
       "      <th>tic</th>\n",
       "      <th>day</th>\n",
       "      <th>change</th>\n",
       "      <th>token_name</th>\n",
       "    </tr>\n",
       "  </thead>\n",
       "  <tbody>\n",
       "    <tr>\n",
       "      <th>0</th>\n",
       "      <td>2004-06-23</td>\n",
       "      <td>3.750000</td>\n",
       "      <td>4.325000</td>\n",
       "      <td>3.687500</td>\n",
       "      <td>4.300000</td>\n",
       "      <td>43574400.0</td>\n",
       "      <td>CRM</td>\n",
       "      <td>2.0</td>\n",
       "      <td>NaN</td>\n",
       "      <td>CRM</td>\n",
       "    </tr>\n",
       "    <tr>\n",
       "      <th>1</th>\n",
       "      <td>2004-06-24</td>\n",
       "      <td>4.387500</td>\n",
       "      <td>4.422500</td>\n",
       "      <td>4.125000</td>\n",
       "      <td>4.190000</td>\n",
       "      <td>8887200.0</td>\n",
       "      <td>CRM</td>\n",
       "      <td>3.0</td>\n",
       "      <td>-0.025581</td>\n",
       "      <td>CRM</td>\n",
       "    </tr>\n",
       "    <tr>\n",
       "      <th>2</th>\n",
       "      <td>2004-06-25</td>\n",
       "      <td>4.127500</td>\n",
       "      <td>4.187500</td>\n",
       "      <td>3.947500</td>\n",
       "      <td>3.950000</td>\n",
       "      <td>6710000.0</td>\n",
       "      <td>CRM</td>\n",
       "      <td>4.0</td>\n",
       "      <td>-0.057279</td>\n",
       "      <td>CRM</td>\n",
       "    </tr>\n",
       "    <tr>\n",
       "      <th>3</th>\n",
       "      <td>2004-06-28</td>\n",
       "      <td>4.000000</td>\n",
       "      <td>4.052500</td>\n",
       "      <td>3.860000</td>\n",
       "      <td>4.000000</td>\n",
       "      <td>2270800.0</td>\n",
       "      <td>CRM</td>\n",
       "      <td>0.0</td>\n",
       "      <td>0.012658</td>\n",
       "      <td>CRM</td>\n",
       "    </tr>\n",
       "    <tr>\n",
       "      <th>4</th>\n",
       "      <td>2004-06-29</td>\n",
       "      <td>4.000000</td>\n",
       "      <td>4.175000</td>\n",
       "      <td>3.957500</td>\n",
       "      <td>4.100000</td>\n",
       "      <td>2112000.0</td>\n",
       "      <td>CRM</td>\n",
       "      <td>1.0</td>\n",
       "      <td>0.025000</td>\n",
       "      <td>CRM</td>\n",
       "    </tr>\n",
       "    <tr>\n",
       "      <th>...</th>\n",
       "      <td>...</td>\n",
       "      <td>...</td>\n",
       "      <td>...</td>\n",
       "      <td>...</td>\n",
       "      <td>...</td>\n",
       "      <td>...</td>\n",
       "      <td>...</td>\n",
       "      <td>...</td>\n",
       "      <td>...</td>\n",
       "      <td>...</td>\n",
       "    </tr>\n",
       "    <tr>\n",
       "      <th>4576</th>\n",
       "      <td>2022-08-25</td>\n",
       "      <td>168.580002</td>\n",
       "      <td>174.139999</td>\n",
       "      <td>165.559998</td>\n",
       "      <td>173.910004</td>\n",
       "      <td>24025600.0</td>\n",
       "      <td>CRM</td>\n",
       "      <td>3.0</td>\n",
       "      <td>-0.033887</td>\n",
       "      <td>CRM</td>\n",
       "    </tr>\n",
       "    <tr>\n",
       "      <th>4577</th>\n",
       "      <td>2022-08-26</td>\n",
       "      <td>173.960007</td>\n",
       "      <td>176.300003</td>\n",
       "      <td>164.630005</td>\n",
       "      <td>165.229996</td>\n",
       "      <td>11074700.0</td>\n",
       "      <td>CRM</td>\n",
       "      <td>4.0</td>\n",
       "      <td>-0.049911</td>\n",
       "      <td>CRM</td>\n",
       "    </tr>\n",
       "    <tr>\n",
       "      <th>4578</th>\n",
       "      <td>2022-08-29</td>\n",
       "      <td>164.279999</td>\n",
       "      <td>165.820007</td>\n",
       "      <td>160.050003</td>\n",
       "      <td>160.210007</td>\n",
       "      <td>9329900.0</td>\n",
       "      <td>CRM</td>\n",
       "      <td>0.0</td>\n",
       "      <td>-0.030382</td>\n",
       "      <td>CRM</td>\n",
       "    </tr>\n",
       "    <tr>\n",
       "      <th>4579</th>\n",
       "      <td>2022-08-30</td>\n",
       "      <td>162.139999</td>\n",
       "      <td>163.850006</td>\n",
       "      <td>158.380005</td>\n",
       "      <td>159.669998</td>\n",
       "      <td>8079400.0</td>\n",
       "      <td>CRM</td>\n",
       "      <td>1.0</td>\n",
       "      <td>-0.003371</td>\n",
       "      <td>CRM</td>\n",
       "    </tr>\n",
       "    <tr>\n",
       "      <th>4580</th>\n",
       "      <td>2022-08-31</td>\n",
       "      <td>159.789993</td>\n",
       "      <td>161.210007</td>\n",
       "      <td>155.970001</td>\n",
       "      <td>156.119995</td>\n",
       "      <td>9166100.0</td>\n",
       "      <td>CRM</td>\n",
       "      <td>2.0</td>\n",
       "      <td>-0.022233</td>\n",
       "      <td>CRM</td>\n",
       "    </tr>\n",
       "  </tbody>\n",
       "</table>\n",
       "<p>4581 rows × 10 columns</p>\n",
       "</div>"
      ],
      "text/plain": [
       "           date        open        high         low       close      volume  \\\n",
       "0    2004-06-23    3.750000    4.325000    3.687500    4.300000  43574400.0   \n",
       "1    2004-06-24    4.387500    4.422500    4.125000    4.190000   8887200.0   \n",
       "2    2004-06-25    4.127500    4.187500    3.947500    3.950000   6710000.0   \n",
       "3    2004-06-28    4.000000    4.052500    3.860000    4.000000   2270800.0   \n",
       "4    2004-06-29    4.000000    4.175000    3.957500    4.100000   2112000.0   \n",
       "...         ...         ...         ...         ...         ...         ...   \n",
       "4576 2022-08-25  168.580002  174.139999  165.559998  173.910004  24025600.0   \n",
       "4577 2022-08-26  173.960007  176.300003  164.630005  165.229996  11074700.0   \n",
       "4578 2022-08-29  164.279999  165.820007  160.050003  160.210007   9329900.0   \n",
       "4579 2022-08-30  162.139999  163.850006  158.380005  159.669998   8079400.0   \n",
       "4580 2022-08-31  159.789993  161.210007  155.970001  156.119995   9166100.0   \n",
       "\n",
       "      tic  day    change token_name  \n",
       "0     CRM  2.0       NaN        CRM  \n",
       "1     CRM  3.0 -0.025581        CRM  \n",
       "2     CRM  4.0 -0.057279        CRM  \n",
       "3     CRM  0.0  0.012658        CRM  \n",
       "4     CRM  1.0  0.025000        CRM  \n",
       "...   ...  ...       ...        ...  \n",
       "4576  CRM  3.0 -0.033887        CRM  \n",
       "4577  CRM  4.0 -0.049911        CRM  \n",
       "4578  CRM  0.0 -0.030382        CRM  \n",
       "4579  CRM  1.0 -0.003371        CRM  \n",
       "4580  CRM  2.0 -0.022233        CRM  \n",
       "\n",
       "[4581 rows x 10 columns]"
      ]
     },
     "execution_count": 124,
     "metadata": {},
     "output_type": "execute_result"
    }
   ],
   "source": [
    "df"
   ]
  },
  {
   "cell_type": "code",
   "execution_count": 125,
   "metadata": {
    "ExecuteTime": {
     "end_time": "2022-11-09T22:25:18.294781Z",
     "start_time": "2022-11-09T22:25:18.292235Z"
    },
    "pycharm": {
     "name": "#%%\n"
    }
   },
   "outputs": [
    {
     "name": "stdout",
     "output_type": "stream",
     "text": [
      "[6, 6, 5, 6, 6, 6, 6, 6, 6, 6, 4, 6, 6, 6, 6, 6, 6, 6, 6, 6, 6, 6, 6, 6, 6, 6, 6, 6, 6, 5]\n",
      "[7.0, 7.0, 5.0, 7.0, 7.0, 7.0, 7.0, 7.0, 7.0, 7.0, 4.0, 7.0, 7.0, 7.0, 7.0, 7.0, 7.0, 7.0, 7.0, 7.0, 7.0, 7.0, 7.0, 7.0, 7.0, 7.0, 7.0, 7.0, 7.0, 5.0]\n"
     ]
    }
   ],
   "source": [
    "# gaps unique counts\n",
    "print(checker1)\n",
    "# max\n",
    "print(checker2)"
   ]
  },
  {
   "cell_type": "code",
   "execution_count": 126,
   "metadata": {
    "ExecuteTime": {
     "end_time": "2022-11-09T22:25:18.319812Z",
     "start_time": "2022-11-09T22:25:18.300450Z"
    },
    "colab": {
     "base_uri": "https://localhost:8080/"
    },
    "executionInfo": {
     "elapsed": 809466,
     "status": "ok",
     "timestamp": 1642757810667,
     "user": {
      "displayName": "peng zhao",
      "photoUrl": "https://lh3.googleusercontent.com/a/default-user=s64",
      "userId": "08255921072412381274"
     },
     "user_tz": -480
    },
    "id": "643hhWgMWiHZ",
    "outputId": "7ccad031-c9c3-4ce0-bd4c-34002e329992",
    "pycharm": {
     "name": "#%%\n"
    }
   },
   "outputs": [],
   "source": [
    "mkdir_if_not_exists(config[\"feature_dir\"])\n",
    "\n",
    "# save meta\n",
    "feature_dir = config[\"feature_dir\"]\n",
    "\n",
    "with open(f\"{feature_dir}/meta.json\", \"w\") as f:\n",
    "    json.dump(config, f)\n",
    "\n",
    "\n",
    "# map pool\n",
    "\n",
    "def main(name, pkl_path, config, test=False):\n",
    "\n",
    "    import pandas as pd\n",
    "    import numpy as np\n",
    "    import traceback\n",
    "\n",
    "    PARAMS_4_RESAMPLE = dict(closed=\"right\", label=\"right\",)\n",
    "\n",
    "    def profit(rows):\n",
    "        if len(rows) < 2:\n",
    "            return np.nan\n",
    "        return rows[-1] / rows[0]\n",
    "\n",
    "    def create_period_inc(df, period: str, params_4_resample=None):\n",
    "        if params_4_resample is None:\n",
    "            params_4_resample = PARAMS_4_RESAMPLE\n",
    "\n",
    "        df_inc = df[\"close\"].resample(\n",
    "            period, **params_4_resample).last()\n",
    "        return df_inc\n",
    "\n",
    "    def create_mom(df_inc, mom_list: list):\n",
    "        dfs = []\n",
    "        for m in mom_list:\n",
    "            s = df_inc.rolling(m + 1).agg({f\"00_price_rising_rate{m:04d}\": profit})\n",
    "            dfs.append(s)\n",
    "            \n",
    "            if m == 1:\n",
    "                dfs.append(s[s.columns[0]].shift(-1).apply(lambda x: x - 1).rename(\"00_target\"))\n",
    "        return pd.concat(dfs, 1)\n",
    "    \n",
    "    # 00 - Price Rising Rate (PR) \n",
    "    def create_mom_features(df, period, mom_list, *args, **kwargs):\n",
    "        df_inc = create_period_inc(df, period)\n",
    "        df_inc = df_inc.dropna()\n",
    "        df_mom = create_mom(df_inc, mom_list)\n",
    "        return df_mom\n",
    "\n",
    "    # create price of the last\n",
    "    def create_period_price(df, period: str, params_4_resample=None):\n",
    "        if params_4_resample is None:\n",
    "            params_4_resample = PARAMS_4_RESAMPLE\n",
    "        df_price = df[\"close\"].resample(period, **params_4_resample).last()\n",
    "        return df_price\n",
    "\n",
    "    # 01 - fine-grained volatility (VOL)\n",
    "    def std_of_prices(df, period, std_period, std_terms, params_4_resample=None, *args, **kwargs):\n",
    "        \"\"\"\n",
    "        df_price: it is a resampled Series\n",
    "        \"\"\"\n",
    "        if params_4_resample is None:\n",
    "            params_4_resample = PARAMS_4_RESAMPLE\n",
    "\n",
    "        features = []\n",
    "        df_price = create_period_price(df, std_period)\n",
    "        df_price = df_price.dropna()\n",
    "\n",
    "        for n in std_terms:\n",
    "            s = df_price.rolling(n + 1).std()\n",
    "            s = s.rename(f\"01_vol_{n}\")\n",
    "            features.append(s)\n",
    "\n",
    "        df_features = pd.concat(features, 1)\n",
    "        return df_features.resample(period, **params_4_resample).last()\n",
    "\n",
    "    \n",
    "    # 02 - Trade Volume (TV)\n",
    "    def trade_vol(df, period: str, tv_nums:list, params_4_resample=None, *args, **kwargs):\n",
    "        if params_4_resample is None:\n",
    "            params_4_resample = PARAMS_4_RESAMPLE\n",
    "            \n",
    "        df = df.resample(period, **params_4_resample).last()\n",
    "        df = df.dropna(subset=[\"close\"], axis=0, how=\"any\")\n",
    "        \n",
    "        features = []\n",
    "        for num in tv_nums:\n",
    "            s = df[\"volume\"].rolling(num).sum()\n",
    "            s = s.rename(f\"02_trade_vol_{num}\")\n",
    "            features.append(s)\n",
    "        \n",
    "        df_features = pd.concat(features, 1)\n",
    "        return df_features\n",
    "    \n",
    "    # 03 - Market_Cap\n",
    "    def market_cap(df, period: str, params_4_resample=None, *args, **kwargs):\n",
    "        if params_4_resample is None:\n",
    "            params_4_resample = PARAMS_4_RESAMPLE\n",
    "            \n",
    "        df = df.resample(period, **params_4_resample).last()\n",
    "        return (df[\"Shares Outstanding\"] * df[\"Close\"]).rename(\"03_market_cap\")\n",
    "    \n",
    "    # 04 - Price-earnings Ratio (PE)\n",
    "    def price_earning_ratio(df, period: str, params_4_resample=None, *args, **kwargs):\n",
    "        if params_4_resample is None:\n",
    "            params_4_resample = PARAMS_4_RESAMPLE\n",
    "            \n",
    "        df = df.resample(period, **params_4_resample).last()\n",
    "        return df[\"P/E\"].rename(\"04_PE\")\n",
    "    \n",
    "    # 05 - Book-to-market Ratio (BM)\n",
    "    def book2market_ratio(df, period: str, params_4_resample=None, *args, **kwargs):\n",
    "        if params_4_resample is None:\n",
    "            params_4_resample = PARAMS_4_RESAMPLE\n",
    "            \n",
    "        df = df.resample(period, **params_4_resample).last()\n",
    "        return df[\"Price to Book Value\"].rename(\"05_book2market_ratio\")\n",
    "    \n",
    "    # 06 - Dividend (Div)\n",
    "    def div(df, period: str, params_4_resample=None, *args, **kwargs):\n",
    "        if params_4_resample is None:\n",
    "            params_4_resample = PARAMS_4_RESAMPLE\n",
    "            \n",
    "        df = df.resample(period, **params_4_resample).last()\n",
    "        return df[\"Dividend Yield\"].rename(\"06_div\")\n",
    "    \n",
    "    \n",
    "    def create_features(df, feature_config: dict):\n",
    "\n",
    "        # all features\n",
    "        df = df.set_index(\"date\")\n",
    "        df_mom = create_mom_features(df, **feature_config)\n",
    "        df_price_std = std_of_prices(df, **feature_config)\n",
    "        df_tv = trade_vol(df, **feature_config)\n",
    "        \n",
    "        # df_market_cap = market_cap(df, **feature_config)\n",
    "        # df_price_earning_ratio = price_earning_ratio(df, **feature_config)\n",
    "        # df_book2market_ratio = book2market_ratio(df, **feature_config)\n",
    "        # df_div = div(df, **feature_config)\n",
    "\n",
    "        \n",
    "        df_all = pd.concat(\n",
    "            [df_mom, df_price_std, df_tv], 1)\n",
    "\n",
    "        \n",
    "        # df_all = pd.concat(\n",
    "        #     [df_price_std], 1)\n",
    "\n",
    "        df_all = df_all.dropna(subset=[df_all.columns[0]], axis=0, how=\"any\")\n",
    "        \n",
    "        # remove extra row, for resampling problem\n",
    "\n",
    "        origin_lastest = df.index.max()\n",
    "        resample_lastest = df_all.index.max()\n",
    "\n",
    "        if resample_lastest > origin_lastest:\n",
    "            return df_all[:-1]\n",
    "        elif resample_lastest == origin_lastest:\n",
    "            return df_all\n",
    "        else:\n",
    "            # it should never happen, just in case\n",
    "            raise ValueError()\n",
    "    \n",
    "    df = pd.read_pickle(pkl_path)\n",
    "    \n",
    "    if test:\n",
    "        df = df.head(test)\n",
    "    \n",
    "    try:\n",
    "        df_features = create_features(df, config)\n",
    "    except Exception as exc:\n",
    "        print(traceback.format_exc())\n",
    "        raise ValueError(name)\n",
    "\n",
    "    # save to feature\n",
    "    feature_dir = config[\"feature_dir\"]\n",
    "\n",
    "    if test:\n",
    "        return df_features\n",
    "    else:\n",
    "        return df_features.to_pickle(f\"{feature_dir}/{name}.pkl\")\n"
   ]
  },
  {
   "cell_type": "code",
   "execution_count": 127,
   "metadata": {
    "ExecuteTime": {
     "end_time": "2022-11-09T22:25:18.325412Z",
     "start_time": "2022-11-09T22:25:18.322828Z"
    }
   },
   "outputs": [],
   "source": [
    "def mutiple_processes_on_features():\n",
    "\n",
    "    t0 = time.time()\n",
    "\n",
    "    stars_list = [(name, p, config) for name, p in path_pickle_dict.items()]\n",
    "    ress = []\n",
    "\n",
    "    for res in parallal_task(main, stars_list):\n",
    "        ress.append(res)\n",
    "\n",
    "    t1 = time.time()\n",
    "    total = t1 - t0\n",
    "\n",
    "    print(total / 60)"
   ]
  },
  {
   "cell_type": "code",
   "execution_count": 128,
   "metadata": {
    "ExecuteTime": {
     "end_time": "2022-11-09T22:25:51.509880Z",
     "start_time": "2022-11-09T22:25:18.326433Z"
    },
    "pycharm": {
     "name": "#%%\n"
    },
    "scrolled": true
   },
   "outputs": [
    {
     "name": "stdout",
     "output_type": "stream",
     "text": [
      "0.12941030263900757\n"
     ]
    }
   ],
   "source": [
    "if 0:\n",
    "    df_test = main(\n",
    "        \"AAPL\",\n",
    "        f\"~/data/raw/{preload_version}/AAPL.csv.pkl\",\n",
    "        config,\n",
    "        test=2000,\n",
    "    )\n",
    "    display(df_test)\n",
    "else:\n",
    "    mutiple_processes_on_features()"
   ]
  }
 ],
 "metadata": {
  "colab": {
   "machine_shape": "hm",
   "name": "featuring-local.ipynb",
   "provenance": [
    {
     "file_id": "1okpd9bXL9IHCe1ZhUierOP7_jn-WPEJV",
     "timestamp": 1640681010558
    }
   ]
  },
  "kernelspec": {
   "display_name": "Python (gold_digger)",
   "language": "python",
   "name": "gold_digger"
  },
  "language_info": {
   "codemirror_mode": {
    "name": "ipython",
    "version": 3
   },
   "file_extension": ".py",
   "mimetype": "text/x-python",
   "name": "python",
   "nbconvert_exporter": "python",
   "pygments_lexer": "ipython3",
   "version": "3.9.15"
  },
  "vscode": {
   "interpreter": {
    "hash": "18d153cb1177ab54473394d3f9606c77229ef1d3b7e4a7fc6809074ff6372902"
   }
  }
 },
 "nbformat": 4,
 "nbformat_minor": 4
}
