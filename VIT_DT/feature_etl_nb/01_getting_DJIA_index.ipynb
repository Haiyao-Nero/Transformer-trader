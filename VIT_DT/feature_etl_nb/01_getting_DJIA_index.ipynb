{
 "cells": [
  {
   "cell_type": "code",
   "execution_count": 20,
   "id": "bee3d728-e772-46ee-b47e-bf1524202d42",
   "metadata": {},
   "outputs": [],
   "source": [
    "import yfinance as yf\n",
    "import os"
   ]
  },
  {
   "cell_type": "code",
   "execution_count": 21,
   "id": "375ce47d-23f1-48e6-9b72-cdc6a32b6320",
   "metadata": {},
   "outputs": [],
   "source": [
    "save_dir = \"/home/ted/data/raw/djia\""
   ]
  },
  {
   "cell_type": "code",
   "execution_count": 22,
   "id": "16d9e33e-b043-43b6-bcef-b2bb51103b37",
   "metadata": {},
   "outputs": [],
   "source": [
    "def mkdir_if_not_exists(p):\n",
    "    if not os.path.exists(p):\n",
    "        os.makedirs(p)"
   ]
  },
  {
   "cell_type": "code",
   "execution_count": 23,
   "id": "71c52ad0-40cb-41bb-8668-9446558e8c3a",
   "metadata": {},
   "outputs": [
    {
     "name": "stdout",
     "output_type": "stream",
     "text": [
      "                                   Open          High           Low  \\\n",
      "Date                                                                  \n",
      "1992-01-02 00:00:00-05:00   3152.100098   3172.629883   3139.310059   \n",
      "1992-01-03 00:00:00-05:00   3172.399902   3210.639893   3165.919922   \n",
      "1992-01-06 00:00:00-05:00   3201.500000   3213.330078   3191.860107   \n",
      "1992-01-07 00:00:00-05:00   3200.100098   3210.199951   3184.479980   \n",
      "1992-01-08 00:00:00-05:00   3204.800049   3229.199951   3185.820068   \n",
      "...                                 ...           ...           ...   \n",
      "2022-12-23 00:00:00-05:00  32961.058594  33226.140625  32814.019531   \n",
      "2022-12-27 00:00:00-05:00  33224.230469  33387.718750  33069.578125   \n",
      "2022-12-28 00:00:00-05:00  33264.761719  33379.550781  32869.148438   \n",
      "2022-12-29 00:00:00-05:00  33021.429688  33293.421875  33020.351562   \n",
      "2022-12-30 00:00:00-05:00  33121.609375  33152.550781  32847.820312   \n",
      "\n",
      "                                  Close     Volume  Dividends  Stock Splits  \n",
      "Date                                                                         \n",
      "1992-01-02 00:00:00-05:00   3172.399902   23550000        0.0           0.0  \n",
      "1992-01-03 00:00:00-05:00   3201.500000   23620000        0.0           0.0  \n",
      "1992-01-06 00:00:00-05:00   3200.100098   27280000        0.0           0.0  \n",
      "1992-01-07 00:00:00-05:00   3204.800049   25510000        0.0           0.0  \n",
      "1992-01-08 00:00:00-05:00   3203.899902   29040000        0.0           0.0  \n",
      "...                                 ...        ...        ...           ...  \n",
      "2022-12-23 00:00:00-05:00  33203.929688  221050000        0.0           0.0  \n",
      "2022-12-27 00:00:00-05:00  33241.558594  246010000        0.0           0.0  \n",
      "2022-12-28 00:00:00-05:00  32875.710938  252260000        0.0           0.0  \n",
      "2022-12-29 00:00:00-05:00  33220.800781  243060000        0.0           0.0  \n",
      "2022-12-30 00:00:00-05:00  33147.250000  295500000        0.0           0.0  \n",
      "\n",
      "[7809 rows x 7 columns]\n"
     ]
    }
   ],
   "source": [
    "# Get the DJIA index data\n",
    "djia = yf.Ticker(\"^DJI\")\n",
    "\n",
    "# Download the data\n",
    "djia_data = djia.history(period=\"50y\")\n",
    "\n",
    "# Print the data\n",
    "print(djia_data)"
   ]
  },
  {
   "cell_type": "code",
   "execution_count": 24,
   "id": "a56cd22a-69b2-4c34-85ff-0c1a99675916",
   "metadata": {},
   "outputs": [],
   "source": [
    "def procoss(df):\n",
    "    df_ = df.copy()\n",
    "    df_.index = df_.index.date\n",
    "    \n",
    "    df_ = df_[[\"Close\", \"Volume\"]]\n",
    "    \n",
    "    df_std = df_.rolling(14).std()\n",
    "    df_mean = df_.rolling(14).mean()\n",
    "    \n",
    "    return (df_ - df_mean) / df_std"
   ]
  },
  {
   "cell_type": "code",
   "execution_count": 25,
   "id": "48a1f91b-3335-449e-b415-7d6e1a0966af",
   "metadata": {},
   "outputs": [],
   "source": [
    "df_res = procoss(djia_data)"
   ]
  },
  {
   "cell_type": "code",
   "execution_count": 26,
   "id": "a2c6c8a1-a260-412a-872c-d53fdc71e9a7",
   "metadata": {},
   "outputs": [],
   "source": [
    "mkdir_if_not_exists(save_dir)"
   ]
  },
  {
   "cell_type": "code",
   "execution_count": 27,
   "id": "a4a1d9bc-d356-4e2d-9653-44ffbe1b27a8",
   "metadata": {},
   "outputs": [],
   "source": [
    "df_res.to_pickle(f\"{save_dir}/data.pkl\")"
   ]
  },
  {
   "cell_type": "code",
   "execution_count": 28,
   "id": "6d98eb55-4912-4cde-b984-a561d604ee04",
   "metadata": {},
   "outputs": [
    {
     "name": "stdout",
     "output_type": "stream",
     "text": [
      "/home/ted/data/raw/djia\n"
     ]
    }
   ],
   "source": [
    "print(save_dir)"
   ]
  }
 ],
 "metadata": {
  "kernelspec": {
   "display_name": "Python (gold_digger)",
   "language": "python",
   "name": "gold_digger"
  },
  "language_info": {
   "codemirror_mode": {
    "name": "ipython",
    "version": 3
   },
   "file_extension": ".py",
   "mimetype": "text/x-python",
   "name": "python",
   "nbconvert_exporter": "python",
   "pygments_lexer": "ipython3",
   "version": "3.9.15"
  }
 },
 "nbformat": 4,
 "nbformat_minor": 5
}
